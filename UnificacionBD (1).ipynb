{
 "cells": [
  {
   "cell_type": "code",
   "execution_count": 8,
   "id": "b69b9789",
   "metadata": {},
   "outputs": [],
   "source": [
    "import pandas as pd\n",
    "\n",
    "# Lista de archivos CSV (cambia los nombres según tus archivos)\n",
    "archivos = [\"valencia 2018-03-15 to 2020-03-15.csv\", \"valencia 2020-03-15 to 2020-09-15.csv\", \"valencia 2020-09-15 to 2023-03-15.csv\", \"valencia 2023-03-15 to 2025-03-15.csv\"]\n",
    "\n"
   ]
  },
  {
   "cell_type": "code",
   "execution_count": 10,
   "id": "d3787b20",
   "metadata": {},
   "outputs": [
    {
     "name": "stdout",
     "output_type": "stream",
     "text": [
      "✅ valencia 2018-03-15 to 2020-03-15.csv cargado con éxito. Columnas: 33\n",
      "✅ valencia 2020-03-15 to 2020-09-15.csv cargado con éxito. Columnas: 33\n",
      "✅ valencia 2020-09-15 to 2023-03-15.csv cargado con éxito. Columnas: 33\n",
      "✅ valencia 2023-03-15 to 2025-03-15.csv cargado con éxito. Columnas: 33\n"
     ]
    }
   ],
   "source": [
    "for archivo in archivos:\n",
    "    try:\n",
    "        df = pd.read_csv(archivo, sep=\";\", engine=\"python\")\n",
    "        print(f\"✅ {archivo} cargado con éxito. Columnas: {df.shape[1]}\")\n",
    "    except Exception as e:\n",
    "        print(f\"❌ Error en {archivo}: {e}\")\n",
    "\n"
   ]
  },
  {
   "cell_type": "code",
   "execution_count": 18,
   "id": "a8fe4c59",
   "metadata": {},
   "outputs": [
    {
     "name": "stdout",
     "output_type": "stream",
     "text": [
      "✅ Archivo unificado guardado correctamente.\n"
     ]
    }
   ],
   "source": [
    "import pandas as pd\n",
    "\n",
    "archivos = [\n",
    "    \"valencia 2018-03-15 to 2020-03-15.csv\",\n",
    "    \"valencia 2020-03-15 to 2020-09-15.csv\",\n",
    "    \"valencia 2020-09-15 to 2023-03-15.csv\",\n",
    "    \"valencia 2023-03-15 to 2025-03-15.csv\"\n",
    "]\n",
    "\n",
    "df_completo = pd.concat(\n",
    "    [pd.read_csv(archivo, sep=\";\", engine=\"python\", error_bad_lines=False) for archivo in archivos],\n",
    "    ignore_index=True\n",
    ")\n",
    "\n",
    "df_completo.to_csv(\"valencia_clima_unificado.csv\", index=False)\n",
    "\n",
    "print(\"✅ Archivo unificado guardado correctamente.\")\n"
   ]
  },
  {
   "cell_type": "code",
   "execution_count": null,
   "id": "40c775ba",
   "metadata": {},
   "outputs": [],
   "source": []
  },
  {
   "cell_type": "code",
   "execution_count": null,
   "id": "c076497e",
   "metadata": {},
   "outputs": [],
   "source": []
  }
 ],
 "metadata": {
  "kernelspec": {
   "display_name": "Python 3",
   "language": "python",
   "name": "python3"
  },
  "language_info": {
   "codemirror_mode": {
    "name": "ipython",
    "version": 3
   },
   "file_extension": ".py",
   "mimetype": "text/x-python",
   "name": "python",
   "nbconvert_exporter": "python",
   "pygments_lexer": "ipython3",
   "version": "3.8.8"
  }
 },
 "nbformat": 4,
 "nbformat_minor": 5
}
