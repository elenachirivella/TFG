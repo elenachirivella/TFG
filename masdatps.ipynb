{
 "cells": [
  {
   "cell_type": "code",
   "execution_count": 6,
   "id": "4e4d6f28-c7e1-4988-b71f-f93a89f5ef89",
   "metadata": {},
   "outputs": [
    {
     "name": "stderr",
     "output_type": "stream",
     "text": [
      "C:\\Users\\Elena Chirivella\\AppData\\Local\\Temp\\ipykernel_33016\\1897123531.py:10: UserWarning: Parsing dates in %Y-%m-%d format when dayfirst=True was specified. Pass `dayfirst=False` or specify a format to silence this warning.\n",
      "  df_nuevo[\"datetime\"] = pd.to_datetime(df_nuevo[\"datetime\"], errors='coerce', dayfirst=True)\n"
     ]
    }
   ],
   "source": [
    "import pandas as pd\n",
    "\n",
    "# Cargar datasets (ajusta los nombres si tus archivos son diferentes)\n",
    "df_antiguo = pd.read_csv(\"valencia_clima_unificado (2).csv\", delimiter=';', on_bad_lines='skip', engine='python')\n",
    "\n",
    "df_nuevo = pd.read_csv(\"nuevosdatos.csv\", delimiter=',', on_bad_lines='skip', engine='python')\n",
    "\n",
    "df_antiguo[\"datetime\"] = pd.to_datetime(df_antiguo[\"datetime\"], errors='coerce', dayfirst=True)\n",
    "\n",
    "df_nuevo[\"datetime\"] = pd.to_datetime(df_nuevo[\"datetime\"], errors='coerce', dayfirst=True)\n",
    "\n",
    "# Asegurarse de que la columna datetime esté bien formateada\n",
    "df_antiguo[\"datetime\"] = pd.to_datetime(df_antiguo[\"datetime\"], errors='coerce')\n",
    "df_nuevo[\"datetime\"] = pd.to_datetime(df_nuevo[\"datetime\"], errors='coerce')\n",
    "\n",
    "# Concatenar, eliminar duplicados por fecha y ordenar\n",
    "df_total = pd.concat([df_antiguo, df_nuevo], ignore_index=True)\n",
    "df_total = df_total.drop_duplicates(subset=\"datetime\").sort_values(\"datetime\")\n",
    "df_total = df_total.dropna(subset=[\"datetime\"]).reset_index(drop=True)\n"
   ]
  },
  {
   "cell_type": "code",
   "execution_count": 5,
   "id": "0765ddbf-1437-47b1-bd8b-d533cd54f977",
   "metadata": {},
   "outputs": [
    {
     "name": "stdout",
     "output_type": "stream",
     "text": [
      "Index(['name', 'datetime', 'tempmax', 'tempmin', 'temp'], dtype='object')\n"
     ]
    }
   ],
   "source": [
    "print(df_nuevo.columns[:5])  # Muestra las primeras columnas reales\n"
   ]
  },
  {
   "cell_type": "code",
   "execution_count": 8,
   "id": "c3531ba1-0c6b-479e-b168-a7ee1b38fdeb",
   "metadata": {},
   "outputs": [
    {
     "name": "stderr",
     "output_type": "stream",
     "text": [
      "C:\\Users\\Elena Chirivella\\AppData\\Local\\Temp\\ipykernel_33016\\595888380.py:9: UserWarning: Parsing dates in %Y-%m-%d format when dayfirst=True was specified. Pass `dayfirst=False` or specify a format to silence this warning.\n",
      "  df_nuevo[\"datetime\"] = pd.to_datetime(df_nuevo[\"datetime\"], errors='coerce', dayfirst=True)\n"
     ]
    },
    {
     "name": "stdout",
     "output_type": "stream",
     "text": [
      "✅ Archivo 'df_model_final.csv' guardado con 2959 filas.\n"
     ]
    }
   ],
   "source": [
    "import pandas as pd\n",
    "\n",
    "# 1. Cargar archivos\n",
    "df_antiguo = pd.read_csv(\"valencia_clima_unificado (2).csv\", delimiter=';', on_bad_lines='skip', engine='python')\n",
    "df_nuevo = pd.read_csv(\"nuevosdatos.csv\", delimiter=',', on_bad_lines='skip', engine='python')\n",
    "\n",
    "# 2. Convertir fechas correctamente\n",
    "df_antiguo[\"datetime\"] = pd.to_datetime(df_antiguo[\"datetime\"], errors='coerce', dayfirst=True)\n",
    "df_nuevo[\"datetime\"] = pd.to_datetime(df_nuevo[\"datetime\"], errors='coerce', dayfirst=True)\n",
    "\n",
    "# 3. Unir datasets, quitar duplicados por fecha y ordenar\n",
    "df_total = pd.concat([df_antiguo, df_nuevo], ignore_index=True)\n",
    "df_total = df_total.drop_duplicates(subset=\"datetime\").sort_values(\"datetime\")\n",
    "df_total = df_total.dropna(subset=[\"datetime\"]).reset_index(drop=True)\n",
    "\n",
    "# 4. Crear columnas de fecha\n",
    "df_total[\"day\"] = df_total[\"datetime\"].dt.day\n",
    "df_total[\"month\"] = df_total[\"datetime\"].dt.month\n",
    "df_total[\"year\"] = df_total[\"datetime\"].dt.year\n",
    "df_total[\"weekday\"] = df_total[\"datetime\"].dt.weekday\n",
    "df_total[\"is_weekend\"] = df_total[\"weekday\"].isin([5, 6]).astype(int)\n",
    "\n",
    "# 5. Crear lags\n",
    "lags = [1, 2, 3, 7]\n",
    "for l in lags:\n",
    "    df_total[f\"temp_lag_{l}\"] = df_total[\"temp\"].shift(l)\n",
    "    df_total[f\"precip_lag_{l}\"] = df_total[\"precip\"].shift(l)\n",
    "    df_total[f\"humidity_lag_{l}\"] = df_total[\"humidity\"].shift(l)\n",
    "\n",
    "# 6. Solo eliminar filas con NaN en los lags (no en todo el DataFrame)\n",
    "lag_cols = [f\"{var}_lag_{l}\" for var in [\"temp\", \"precip\", \"humidity\"] for l in lags]\n",
    "df_model_final = df_total.dropna(subset=lag_cols).reset_index(drop=True)\n",
    "\n",
    "# 7. Guardar CSV para usar en Streamlit\n",
    "df_model_final.to_csv(\"df_model_final.csv\", index=False)\n",
    "print(\"✅ Archivo 'df_model_final.csv' guardado con\", len(df_model_final), \"filas.\")\n",
    "\n"
   ]
  },
  {
   "cell_type": "code",
   "execution_count": 10,
   "id": "4340c553-a503-43ee-a95e-f88e51808e4a",
   "metadata": {},
   "outputs": [
    {
     "name": "stdout",
     "output_type": "stream",
     "text": [
      "✅ Guardado feature_names.pkl con 17 columnas\n"
     ]
    }
   ],
   "source": [
    "features = [col for col in df_model_final.columns if 'lag' in col or col in ['day', 'month', 'year', 'weekday', 'is_weekend']]\n",
    "\n",
    "# Guardar columnas para luego usarlas en la app\n",
    "import joblib\n",
    "joblib.dump(features, \"feature_names.pkl\")\n",
    "print(\"✅ Guardado feature_names.pkl con\", len(features), \"columnas\")\n"
   ]
  },
  {
   "cell_type": "code",
   "execution_count": null,
   "id": "5d1c159b-2c03-4c3d-8700-3c94b7c05f89",
   "metadata": {},
   "outputs": [],
   "source": []
  }
 ],
 "metadata": {
  "kernelspec": {
   "display_name": "Python 3 (ipykernel)",
   "language": "python",
   "name": "python3"
  },
  "language_info": {
   "codemirror_mode": {
    "name": "ipython",
    "version": 3
   },
   "file_extension": ".py",
   "mimetype": "text/x-python",
   "name": "python",
   "nbconvert_exporter": "python",
   "pygments_lexer": "ipython3",
   "version": "3.13.2"
  }
 },
 "nbformat": 4,
 "nbformat_minor": 5
}
