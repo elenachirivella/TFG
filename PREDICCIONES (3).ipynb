{
 "cells": [
  {
   "cell_type": "markdown",
   "id": "24c9f569-9f03-4e5e-aab8-0e3696020ee3",
   "metadata": {},
   "source": [
    "# PREDICCIONES"
   ]
  },
  {
   "cell_type": "markdown",
   "id": "d3466c43-308d-4736-8ff0-4f7ff5283579",
   "metadata": {},
   "source": [
    "## 1.PREPARACIÓN Y FUTURE ENGINEERING"
   ]
  },
  {
   "cell_type": "code",
   "execution_count": null,
   "id": "55dcd0ae-fbed-45cd-b6d5-951b825bb10f",
   "metadata": {},
   "outputs": [],
   "source": [
    "#!pip install pandas\n",
    "#!pip install pandas numpy scikit-learn xgboost matplotlib seaborn tensorflow\n",
    "#!pip install scikit-learn\n",
    "#!pip install xgboost\n",
    "#!pip install matplotlib\n",
    "#!pip install seaborn\n"
   ]
  },
  {
   "cell_type": "code",
   "execution_count": null,
   "id": "eea1703a-51a5-4102-9218-e0c6d7e97e4c",
   "metadata": {},
   "outputs": [],
   "source": [
    "from sklearn.linear_model import LinearRegression\n",
    "from sklearn.metrics import mean_squared_error, r2_score, mean_absolute_error\n"
   ]
  },
  {
   "cell_type": "code",
   "execution_count": null,
   "id": "292dc6c3-ec4a-44a9-a866-5197c3e78593",
   "metadata": {},
   "outputs": [],
   "source": [
    "import pandas as pd\n",
    "import numpy as np\n",
    "\n",
    "df = pd.read_csv(\"valencia_clima_unificado (2).csv\", delimiter=';', on_bad_lines='skip')\n"
   ]
  },
  {
   "cell_type": "code",
   "execution_count": null,
   "id": "5e9333a7-3df1-4080-b792-192533da6abc",
   "metadata": {},
   "outputs": [],
   "source": [
    "# Convertir la columna de fecha\n",
    "df['datetime'] = pd.to_datetime(df['datetime'], dayfirst=True)\n",
    "\n",
    "# Extraer características temporales\n",
    "df['day'] = df['datetime'].dt.day\n",
    "df['month'] = df['datetime'].dt.month\n",
    "df['year'] = df['datetime'].dt.year\n",
    "df['weekday'] = df['datetime'].dt.weekday\n",
    "df['is_weekend'] = (df['weekday'] >= 5).astype(int)\n"
   ]
  },
  {
   "cell_type": "code",
   "execution_count": null,
   "id": "a0395419-590e-4021-a0e1-655439dd5229",
   "metadata": {},
   "outputs": [],
   "source": [
    "# Crear columnas desplazadas a 30 días\n",
    "df['temp_futuro_30'] = df['temp'].shift(-30)\n",
    "df['precip_futuro_30'] = df['precip'].shift(-30)\n",
    "df['humidity_futuro_30'] = df['humidity'].shift(-30)\n",
    "df['uvindex_futuro_30'] = df['uvindex'].shift(-30)\n"
   ]
  },
  {
   "cell_type": "code",
   "execution_count": null,
   "id": "673f9d80-b4e0-446e-bcba-68d77b728ce6",
   "metadata": {},
   "outputs": [],
   "source": [
    "# Crear lags de 1, 2, 3 y 7 días para temp, precip y humidity\n",
    "lags = [1, 2, 3, 7]\n",
    "for l in lags:\n",
    "    df[f'temp_lag_{l}'] = df['temp'].shift(l)\n",
    "    df[f'precip_lag_{l}'] = df['precip'].shift(l)\n",
    "    df[f'humidity_lag_{l}'] = df['humidity'].shift(l)\n"
   ]
  },
  {
   "cell_type": "code",
   "execution_count": null,
   "id": "21a18ebd-c2f7-4a40-934f-52727d6ec1af",
   "metadata": {},
   "outputs": [],
   "source": [
    "df_model = df.dropna(subset=[\n",
    "    'temp_futuro_30', 'precip_futuro_30', 'humidity_futuro_30', 'uvindex_futuro_30',\n",
    "    'temp_lag_1', 'temp_lag_2', 'temp_lag_3', 'temp_lag_7',\n",
    "    'precip_lag_1', 'precip_lag_2', 'precip_lag_3', 'precip_lag_7',\n",
    "    'humidity_lag_1', 'humidity_lag_2', 'humidity_lag_3', 'humidity_lag_7'\n",
    "])\n"
   ]
  },
  {
   "cell_type": "code",
   "execution_count": null,
   "id": "759a5ea4-a9db-470c-adee-a252061990a1",
   "metadata": {},
   "outputs": [],
   "source": [
    "df_train = df_model[df_model['year'] <= 2024]\n",
    "df_test = df_model[df_model['year'] == 2025]\n",
    "\n",
    "print(\"Entrenamiento:\", len(df_train), \" | Test:\", len(df_test))\n"
   ]
  },
  {
   "cell_type": "code",
   "execution_count": null,
   "id": "aad5b98b-26ef-4206-b7a0-2681fbf30f62",
   "metadata": {},
   "outputs": [],
   "source": [
    "features = [col for col in df_model.columns if 'lag' in col or col in ['day', 'month', 'year', 'weekday', 'is_weekend']]\n",
    "target = 'temp_futuro_30'\n"
   ]
  },
  {
   "cell_type": "markdown",
   "id": "185020fb-853c-4b48-b786-fdfdc1d11b5f",
   "metadata": {},
   "source": [
    "## 2. Modelos y entrenamiento"
   ]
  },
  {
   "cell_type": "markdown",
   "id": "e1858b96-f4b1-4053-a422-81248409027e",
   "metadata": {},
   "source": [
    "---------------------------------------------------------------------------------------------------\n",
    "## *MODELOS DE REGRESIÓN*\n"
   ]
  },
  {
   "cell_type": "markdown",
   "id": "6bbf66b8-e6e3-4d60-9316-6a166886bf98",
   "metadata": {},
   "source": [
    "### EVALUACIÓN DE LOS MODELOS"
   ]
  },
  {
   "cell_type": "code",
   "execution_count": null,
   "id": "9e66d681-e5c7-4310-ac12-794a4f1a26bd",
   "metadata": {},
   "outputs": [],
   "source": [
    "from sklearn.metrics import mean_squared_error, r2_score, mean_absolute_error\n",
    "import numpy as np\n",
    "\n",
    "def evaluar_modelo(nombre, modelo, X_train, y_train, X_test, y_test):\n",
    "    modelo.fit(X_train, y_train)\n",
    "    y_pred = modelo.predict(X_test)\n",
    "    \n",
    "    print(f\"\\n📊 Resultados para: {nombre}\")\n",
    "    print(\"MAE:\", mean_absolute_error(y_test, y_pred))\n",
    "    print(\"RMSE:\", np.sqrt(mean_squared_error(y_test, y_pred)))\n",
    "    print(\"R2:\", r2_score(y_test, y_pred))\n",
    "    return y_pred\n"
   ]
  },
  {
   "cell_type": "markdown",
   "id": "57a70c46-107a-435c-97a8-fb6d853899e7",
   "metadata": {},
   "source": [
    " ##### 1. Regresión lineal "
   ]
  },
  {
   "cell_type": "code",
   "execution_count": null,
   "id": "ebab78b8-01fa-4165-a39a-c590496ba581",
   "metadata": {},
   "outputs": [],
   "source": [
    "\n",
    "from sklearn.linear_model import LinearRegression\n",
    "\n",
    "modelo_lr = LinearRegression()\n",
    "_ = evaluar_modelo(\"Regresión Lineal Múltiple\", modelo_lr, df_train[features], df_train[target], df_test[features], df_test[target])\n",
    "\n"
   ]
  },
  {
   "cell_type": "markdown",
   "id": "43717509-061e-46c5-95d2-a536a2b98c3e",
   "metadata": {},
   "source": [
    "##### 2. Random Forest Regressor"
   ]
  },
  {
   "cell_type": "code",
   "execution_count": null,
   "id": "e721bbf4-5fe5-4952-8420-9eb2415eabe8",
   "metadata": {},
   "outputs": [],
   "source": [
    "from sklearn.ensemble import RandomForestRegressor\n",
    "\n",
    "modelo_rf = RandomForestRegressor(n_estimators=50, random_state=42)\n",
    "_ = evaluar_modelo(\"Random Forest\", modelo_rf, df_train[features], df_train[target], df_test[features], df_test[target])\n",
    "\n"
   ]
  },
  {
   "cell_type": "markdown",
   "id": "b72f1b53-2228-4a0f-86f7-de812b5592de",
   "metadata": {},
   "source": [
    "##### 3. XGBoost Regressor"
   ]
  },
  {
   "cell_type": "code",
   "execution_count": null,
   "id": "43ea1e36-3d5d-4734-a50b-1c90cec70a9b",
   "metadata": {},
   "outputs": [],
   "source": [
    "from xgboost import XGBRegressor\n",
    "\n",
    "modelo_xgb = XGBRegressor(n_estimators=100, learning_rate=0.1, random_state=42)\n",
    "_ = evaluar_modelo(\"XGBoost\", modelo_xgb, df_train[features], df_train[target], df_test[features], df_test[target])\n"
   ]
  },
  {
   "cell_type": "markdown",
   "id": "bdb03078-e8e9-44a8-bfd9-21353c4682cd",
   "metadata": {},
   "source": [
    "##### 4.SVR (Support Vector Regression)"
   ]
  },
  {
   "cell_type": "code",
   "execution_count": null,
   "id": "0d360b1a-575f-45fd-9fc5-b652ef54aa3d",
   "metadata": {},
   "outputs": [],
   "source": [
    "from sklearn.svm import SVR\n",
    "from sklearn.preprocessing import StandardScaler\n",
    "\n",
    "scaler = StandardScaler()\n",
    "X_train_scaled = scaler.fit_transform(df_train[features])\n",
    "X_test_scaled = scaler.transform(df_test[features])\n",
    "\n",
    "modelo_svr = SVR()\n",
    "_ = evaluar_modelo(\"SVR\", modelo_svr, X_train_scaled, df_train[target], X_test_scaled, df_test[target])\n",
    "\n"
   ]
  },
  {
   "cell_type": "markdown",
   "id": "763b9aec-f468-4ece-8b8e-91426f4e7ff5",
   "metadata": {},
   "source": [
    "##### 5. MLPRegressor (Red neuronal con Keras)"
   ]
  },
  {
   "cell_type": "code",
   "execution_count": null,
   "id": "729e123e-64a8-4a83-bb6e-98d36961d3da",
   "metadata": {},
   "outputs": [],
   "source": [
    "from sklearn.neural_network import MLPRegressor\n",
    "\n",
    "modelo_mlp = MLPRegressor(hidden_layer_sizes=(100,50), max_iter=500, random_state=42)\n",
    "_ = evaluar_modelo(\"MLPRegressor\", modelo_mlp, X_train_scaled, df_train[target], X_test_scaled, df_test[target])\n",
    "\n",
    "\n"
   ]
  },
  {
   "cell_type": "markdown",
   "id": "9594242d-f91d-4245-9072-9c3e9cb3a9c8",
   "metadata": {},
   "source": [
    "---------------------------------------------------------------------------------------------------------\n",
    "\n",
    "## *Modelos Multi-output*"
   ]
  },
  {
   "cell_type": "markdown",
   "id": "2d137465-bf6f-4a43-a78b-84386d6ca44f",
   "metadata": {},
   "source": [
    "### EVALUACIÓN DE LOS MODELOS"
   ]
  },
  {
   "cell_type": "code",
   "execution_count": null,
   "id": "0b029d04-c172-4797-8a9c-3652e02dc49a",
   "metadata": {},
   "outputs": [],
   "source": [
    "from sklearn.metrics import mean_squared_error, r2_score, mean_absolute_error\n",
    "import numpy as np\n",
    "import pandas as pd\n",
    "\n",
    "def evaluar_multioutput(nombre_modelo, y_true, y_pred, columnas):\n",
    "    print(f\"\\n📊 Evaluación para: {nombre_modelo}\")\n",
    "    resultados = []\n",
    "\n",
    "    for i, col in enumerate(columnas):\n",
    "        mae = mean_absolute_error(y_true[col], y_pred[:, i])\n",
    "        rmse = np.sqrt(mean_squared_error(y_true[col], y_pred[:, i]))\n",
    "        r2 = r2_score(y_true[col], y_pred[:, i])\n",
    "        resultados.append([col, mae, rmse, r2])\n",
    "\n",
    "    df_resultados = pd.DataFrame(resultados, columns=[\"Variable\", \"MAE\", \"RMSE\", \"R2\"])\n",
    "    print(df_resultados)\n",
    "    return df_resultados\n",
    "\n",
    "def evaluar_univariable(nombre_modelo, y_true, y_pred):\n",
    "    print(f\"\\n📊 Evaluación para: {nombre_modelo}\")\n",
    "    print(\"MAE:\", mean_absolute_error(y_true, y_pred))\n",
    "    print(\"RMSE:\", np.sqrt(mean_squared_error(y_true, y_pred)))\n",
    "    print(\"R2:\", r2_score(y_true, y_pred))\n"
   ]
  },
  {
   "cell_type": "code",
   "execution_count": null,
   "id": "78c53759-0e44-4063-bfe4-1c9b39c95889",
   "metadata": {},
   "outputs": [],
   "source": [
    "targets = ['temp_futuro_30', 'precip_futuro_30', 'humidity_futuro_30', 'uvindex_futuro_30']\n"
   ]
  },
  {
   "cell_type": "markdown",
   "id": "fd782ea7-f31f-445d-b2c3-8495228e3c8d",
   "metadata": {},
   "source": [
    "##### 1. Random Forest Regressor multioutput"
   ]
  },
  {
   "cell_type": "code",
   "execution_count": null,
   "id": "3f98ddf8-2aa6-44b2-8caa-ed7c26366a04",
   "metadata": {},
   "outputs": [],
   "source": [
    "from sklearn.ensemble import RandomForestRegressor\n",
    "from sklearn.multioutput import MultiOutputRegressor\n",
    "\n",
    "rf_multi = MultiOutputRegressor(RandomForestRegressor(n_estimators=50, random_state=42))\n",
    "rf_multi.fit(df_train[features], df_train[targets])\n",
    "y_pred_rf = rf_multi.predict(df_test[features])\n",
    "\n",
    "_ = evaluar_multioutput(\"RandomForest MultiOutput\", df_test[targets], y_pred_rf, targets)\n"
   ]
  },
  {
   "cell_type": "markdown",
   "id": "e7a2f1e2-9411-4f3f-8495-572df714f32e",
   "metadata": {},
   "source": [
    "##### 2. XGBoost una por variable "
   ]
  },
  {
   "cell_type": "code",
   "execution_count": null,
   "id": "8370b8ce-b141-4da0-8708-6863fd7c38bb",
   "metadata": {},
   "outputs": [],
   "source": [
    "from xgboost import XGBRegressor\n",
    "import numpy as np\n",
    "\n",
    "predicciones_xgb = {}\n",
    "\n",
    "for target_col in targets:\n",
    "    modelo = XGBRegressor(n_estimators=100, learning_rate=0.1, random_state=42)\n",
    "    modelo.fit(df_train[features], df_train[target_col])\n",
    "    predicciones_xgb[target_col] = modelo.predict(df_test[features])\n",
    "\n",
    "\n",
    "y_pred_xgb = np.column_stack([predicciones_xgb[col] for col in targets])\n",
    "_ = evaluar_multioutput(\"XGBoost por variable\", df_test[targets], y_pred_xgb, targets)\n"
   ]
  },
  {
   "cell_type": "markdown",
   "id": "79ae16fe-e658-4df4-910e-3c082d5d9434",
   "metadata": {},
   "source": [
    "##### 3. MLPRegressor multi-output"
   ]
  },
  {
   "cell_type": "code",
   "execution_count": null,
   "id": "3a0648ec-1ace-44a9-8626-4ec240f07c22",
   "metadata": {},
   "outputs": [],
   "source": [
    "from sklearn.neural_network import MLPRegressor\n",
    "from sklearn.preprocessing import StandardScaler\n",
    "from sklearn.metrics import mean_absolute_error, mean_squared_error, r2_score\n",
    "import numpy as np\n",
    "import pandas as pd\n",
    "\n",
    "# Escalar los datos\n",
    "scaler = StandardScaler()\n",
    "X_train_scaled = scaler.fit_transform(df_train[features])\n",
    "X_test_scaled = scaler.transform(df_test[features])\n",
    "\n",
    "# Crear el modelo con early stopping\n",
    "mlp_multi = MLPRegressor(hidden_layer_sizes=(100, 50),\n",
    "                         max_iter=1000,\n",
    "                         early_stopping=True,\n",
    "                         random_state=42)\n",
    "\n",
    "# Entrenar el modelo\n",
    "mlp_multi.fit(X_train_scaled, df_train[targets])\n",
    "\n",
    "# Predecir en el conjunto de test\n",
    "y_pred_mlp = mlp_multi.predict(X_test_scaled)\n",
    "\n",
    "\n",
    "# Evaluar\n",
    "_ = evaluar_multioutput(\"MLPRegressor MultiOutput\", df_test[targets], y_pred_mlp, targets)\n",
    "\n"
   ]
  },
  {
   "cell_type": "markdown",
   "id": "670c898c-ada0-4ab2-95c4-1c17186f64f6",
   "metadata": {},
   "source": [
    "##### 4.SVR con GridSearchCV"
   ]
  },
  {
   "cell_type": "code",
   "execution_count": null,
   "id": "8f4ca117-2f84-4a8e-8b2c-c378ea003161",
   "metadata": {},
   "outputs": [],
   "source": [
    "from sklearn.model_selection import GridSearchCV\n",
    "from sklearn.svm import SVR\n",
    "\n",
    "param_grid = {'C': [0.1, 1, 10], 'epsilon': [0.01, 0.1, 1]}\n",
    "grid_svr = GridSearchCV(SVR(), param_grid, cv=3)\n",
    "grid_svr.fit(X_train_scaled, df_train['temp_futuro_30'])\n",
    "y_pred_svr = grid_svr.predict(X_test_scaled)\n",
    "\n",
    "evaluar_univariable(\"SVR con GridSearchCV (temp)\", df_test['temp_futuro_30'], y_pred_svr)\n",
    "\n"
   ]
  },
  {
   "cell_type": "code",
   "execution_count": null,
   "id": "2fbee334-70ec-4cd8-bce2-d09b9539bfca",
   "metadata": {},
   "outputs": [],
   "source": [
    "from sklearn.model_selection import GridSearchCV\n",
    "from sklearn.svm import SVR\n",
    "from sklearn.metrics import mean_absolute_error, mean_squared_error, r2_score\n",
    "import numpy as np\n",
    "import pandas as pd\n",
    "\n",
    "# Variables objetivo\n",
    "targets = ['temp_futuro_30', 'precip_futuro_30', 'humidity_futuro_30', 'uvindex_futuro_30']\n",
    "\n",
    "# Parámetros para GridSearch\n",
    "param_grid = {'C': [0.1, 1, 10], 'epsilon': [0.01, 0.1, 1]}\n",
    "\n",
    "# Guardar resultados\n",
    "resultados_svr = []\n",
    "\n",
    "for target in targets:\n",
    "    print(f\"\\nEntrenando SVR para: {target}\")\n",
    "    grid_svr = GridSearchCV(SVR(), param_grid, cv=3)\n",
    "    grid_svr.fit(X_train_scaled, df_train[target])\n",
    "    y_pred = grid_svr.predict(X_test_scaled)\n",
    "\n",
    "    # Evaluación\n",
    "    mae = mean_absolute_error(df_test[target], y_pred)\n",
    "    rmse = np.sqrt(mean_squared_error(df_test[target], y_pred))\n",
    "    r2 = r2_score(df_test[target], y_pred)\n",
    "\n",
    "    resultados_svr.append([target, mae, rmse, r2])\n",
    "\n",
    "# Mostrar tabla resumen\n",
    "df_resultados_svr = pd.DataFrame(resultados_svr, columns=[\"Variable\", \"MAE\", \"RMSE\", \"R2\"])\n",
    "print(\"\\n📊 Resultados globales SVR:\")\n",
    "print(df_resultados_svr)\n"
   ]
  },
  {
   "cell_type": "markdown",
   "id": "e56562f2-a1fb-41a6-a557-776ffa1187ef",
   "metadata": {},
   "source": [
    "---------------------------------------------------------------------\n",
    "## *Modelos de Clasificación*"
   ]
  },
  {
   "cell_type": "markdown",
   "id": "7faf46ca-0097-4393-96cb-78188e8324dc",
   "metadata": {},
   "source": [
    "#### ✅ Paso 1: Crear variable objetivo binaria"
   ]
  },
  {
   "cell_type": "code",
   "execution_count": null,
   "id": "ec233095-e440-4f42-86c0-8eb389f8713c",
   "metadata": {},
   "outputs": [],
   "source": [
    "\n",
    "# Crear la columna binaria directamente en df\n",
    "df.loc[:, 'llovera_en_30_dias'] = (df['precip_futuro_30'] > 0).astype(int)\n",
    "\n",
    "# Volver a construir df_model con todas las columnas necesarias (incluyendo la nueva)\n",
    "df_model = df.dropna(subset=[\n",
    "    'temp_futuro_30', 'precip_futuro_30', 'humidity_futuro_30', 'uvindex_futuro_30',\n",
    "    'temp_lag_1', 'temp_lag_2', 'temp_lag_3', 'temp_lag_7',\n",
    "    'precip_lag_1', 'precip_lag_2', 'precip_lag_3', 'precip_lag_7',\n",
    "    'humidity_lag_1', 'humidity_lag_2', 'humidity_lag_3', 'humidity_lag_7',\n",
    "    'llovera_en_30_dias'\n",
    "])\n",
    "\n",
    "# Volver a dividir los datos\n",
    "df_train = df_model[df_model['year'] <= 2024]\n",
    "df_test = df_model[df_model['year'] == 2025]\n",
    "\n",
    "# Targets y features escalados ya están hechos, ahora podemos hacer:\n",
    "X_train_clf = X_train_scaled\n",
    "X_test_clf = X_test_scaled\n",
    "y_train_clf = df_train['llovera_en_30_dias']\n",
    "y_test_clf = df_test['llovera_en_30_dias']"
   ]
  },
  {
   "cell_type": "markdown",
   "id": "f41b9ef3-b62f-4bac-863f-aa1cd43a6c9b",
   "metadata": {},
   "source": [
    "\n",
    "#### ✅ Paso 2: Evaluación común para clasificación"
   ]
  },
  {
   "cell_type": "code",
   "execution_count": null,
   "id": "eeae2e2d-f594-44d7-be81-4282febd88b7",
   "metadata": {},
   "outputs": [],
   "source": [
    "def evaluar_clasificacion(nombre_modelo, y_true, y_pred):\n",
    "    print(f\"\\n📊 Evaluación para: {nombre_modelo}\")\n",
    "    print(\"Accuracy:\", accuracy_score(y_true, y_pred))\n",
    "    print(\"F1-score:\", f1_score(y_true, y_pred))\n",
    "    print(\"Matriz de confusión:\\n\", confusion_matrix(y_true, y_pred))\n",
    "    print(\"Reporte completo:\\n\", classification_report(y_true, y_pred))"
   ]
  },
  {
   "cell_type": "markdown",
   "id": "111984b4-2878-4443-9488-95c6b9f67688",
   "metadata": {},
   "source": [
    "#### ✅ Paso 3: Entrenamiento de modelos"
   ]
  },
  {
   "cell_type": "markdown",
   "id": "734c58f4-d1d6-4ee7-986d-39420edabbd1",
   "metadata": {},
   "source": [
    "##### 1. Logisitc Regression"
   ]
  },
  {
   "cell_type": "code",
   "execution_count": null,
   "id": "84b2c4f7-2587-4d5c-afd3-31c56d4c7c26",
   "metadata": {},
   "outputs": [],
   "source": [
    "from sklearn.metrics import accuracy_score, f1_score, confusion_matrix, classification_report\n",
    "from sklearn.linear_model import LogisticRegression\n",
    "\n",
    "logreg = LogisticRegression()\n",
    "logreg.fit(X_train_clf, y_train_clf)\n",
    "y_pred_log = logreg.predict(X_test_clf)\n",
    "evaluar_clasificacion(\"Logistic Regression\", y_test_clf, y_pred_log)\n"
   ]
  },
  {
   "cell_type": "markdown",
   "id": "7f26b7dc-d147-4c16-8ab1-a94eaa0401bd",
   "metadata": {},
   "source": [
    "##### 2. Random Forest Classifier"
   ]
  },
  {
   "cell_type": "code",
   "execution_count": null,
   "id": "190ba59a-b033-4268-bdbc-ccf727cf912c",
   "metadata": {},
   "outputs": [],
   "source": [
    "from sklearn.ensemble import RandomForestClassifier\n",
    "\n",
    "rf_clf = RandomForestClassifier(n_estimators=100, random_state=42)\n",
    "rf_clf.fit(X_train_clf, y_train_clf)\n",
    "y_pred_rf_clf = rf_clf.predict(X_test_clf)\n",
    "evaluar_clasificacion(\"Random Forest Classifier\", y_test_clf, y_pred_rf_clf)"
   ]
  },
  {
   "cell_type": "markdown",
   "id": "bba2ecfa-64be-4c81-8784-8d377cf4a2b0",
   "metadata": {},
   "source": [
    "##### 3.XGBoost Forest Classifier"
   ]
  },
  {
   "cell_type": "code",
   "execution_count": null,
   "id": "e84a9780-e637-4d84-ae95-5e1cb5772c13",
   "metadata": {},
   "outputs": [],
   "source": [
    "from xgboost import XGBClassifier\n",
    "\n",
    "xgb_clf = XGBClassifier(n_estimators=100, use_label_encoder=False, eval_metric='logloss', random_state=42)\n",
    "xgb_clf.fit(X_train_clf, y_train_clf)\n",
    "y_pred_xgb = xgb_clf.predict(X_test_clf)\n",
    "evaluar_clasificacion(\"XGBoost Classifier\", y_test_clf, y_pred_xgb)"
   ]
  },
  {
   "cell_type": "markdown",
   "id": "d66fd005-181c-433d-9e23-5f12d6767de8",
   "metadata": {},
   "source": [
    "##### 4.MLPClassifier"
   ]
  },
  {
   "cell_type": "code",
   "execution_count": null,
   "id": "afeed996-f298-4357-977d-6c00f3b27cce",
   "metadata": {},
   "outputs": [],
   "source": [
    "from sklearn.neural_network import MLPClassifier\n",
    "\n",
    "mlp_clf = MLPClassifier(hidden_layer_sizes=(100, 50), max_iter=1000, early_stopping=True, random_state=42)\n",
    "mlp_clf.fit(X_train_clf, y_train_clf)\n",
    "y_pred_mlp_clf = mlp_clf.predict(X_test_clf)\n",
    "evaluar_clasificacion(\"MLPClassifier\", y_test_clf, y_pred_mlp_clf)\n"
   ]
  },
  {
   "cell_type": "markdown",
   "id": "3e05393f-ad36-4c40-9384-02af8647c3f1",
   "metadata": {},
   "source": [
    "---------------------------------------------------------------------------------------------------------------\n",
    "## *Modelos de series temporales* - EN GOOGLE COLLAB"
   ]
  },
  {
   "cell_type": "markdown",
   "id": "5db00e99-daf1-488b-b6a8-55cbef02294a",
   "metadata": {},
   "source": [
    "----------------------------------------------------------------------------------------------------------------------------------\n",
    "## 3.ELECCION DE MODELOS - GRÁFICAS"
   ]
  },
  {
   "cell_type": "code",
   "execution_count": null,
   "id": "fe8ea209-d373-4db1-9576-5ed3b5c64eac",
   "metadata": {},
   "outputs": [],
   "source": []
  },
  {
   "cell_type": "code",
   "execution_count": null,
   "id": "f8c7577a-14b0-472b-bcb3-8346acb83d05",
   "metadata": {},
   "outputs": [],
   "source": [
    "import matplotlib.pyplot as plt\n",
    "import seaborn as sns\n",
    "import pandas as pd\n",
    "\n",
    "# Datos combinados de modelos que predicen temperatura futura\n",
    "modelos_temp = {\n",
    "    \"Modelo\": [\n",
    "        \"Regresión Lineal\", \"Random Forest\", \"XGBoost\", \"SVR\", \"MLP\",\n",
    "        \"RF MultiOutput\", \"XGB MultiOutput\", \"MLP MultiOutput\", \"SVR MultiOutput\",\n",
    "        \"LSTM\", \"Enc-Dec LSTM\", \"ARIMA\", \"Transformer\"\n",
    "    ],\n",
    "    \"MAE\": [3.53, 1.70, 1.66, 2.29, 1.50,\n",
    "            1.70, 1.66, 3.64, 1.76,\n",
    "            1.45, 5.45, 3.12, 1.15],\n",
    "    \"RMSE\": [4.41, 2.01, 2.11, 2.95, 1.81,\n",
    "             2.01, 2.11, 4.53, 2.15,\n",
    "             1.60, 5.54, 3.96, 1.36],\n",
    "    \"R2\": [-4.97, -0.24, -0.36, -1.67, -0.01,\n",
    "           -0.24, -0.36, -5.30, -0.42,\n",
    "           -1.57, -29.81, -0.62, -0.85]\n",
    "}\n",
    "df_temp = pd.DataFrame(modelos_temp)\n",
    "\n",
    "# Barplot MAE\n",
    "plt.figure(figsize=(10, 6))\n",
    "sns.barplot(data=df_temp, x=\"MAE\", y=\"Modelo\", palette=\"crest\")\n",
    "plt.title(\"Comparación de MAE para Predicción de Temperatura (temp_futuro_30)\")\n",
    "plt.xlabel(\"MAE (Error Absoluto Medio)\")\n",
    "plt.ylabel(\"Modelo\")\n",
    "plt.show()\n",
    "\n",
    "# Barplot RMSE\n",
    "plt.figure(figsize=(10, 6))\n",
    "sns.barplot(data=df_temp, x=\"RMSE\", y=\"Modelo\", palette=\"flare\")\n",
    "plt.title(\"Comparación de RMSE para Predicción de Temperatura\")\n",
    "plt.xlabel(\"RMSE (Raíz del Error Cuadrático Medio)\")\n",
    "plt.ylabel(\"Modelo\")\n",
    "plt.show()\n",
    "\n",
    "# Barplot R²\n",
    "plt.figure(figsize=(10, 6))\n",
    "sns.barplot(data=df_temp, x=\"R2\", y=\"Modelo\", palette=\"coolwarm\")\n",
    "plt.title(\"Comparación de R² para Predicción de Temperatura\")\n",
    "plt.xlabel(\"R²\")\n",
    "plt.ylabel(\"Modelo\")\n",
    "plt.show()\n"
   ]
  },
  {
   "cell_type": "code",
   "execution_count": null,
   "id": "098c29d6-103b-4578-ba5d-d66f17bdf6c3",
   "metadata": {},
   "outputs": [],
   "source": [
    "# MAE por variable para modelos multi-output\n",
    "multi_mae = pd.DataFrame({\n",
    "    \"Modelo\": [\"Random Forest\", \"XGBoost\", \"MLP\", \"SVR\"],\n",
    "    \"temp\": [1.70, 1.66, 3.64, 1.76],\n",
    "    \"precip\": [2.05, 1.76, 1.95, 1.55],\n",
    "    \"humidity\": [13.67, 14.95, 14.68, 11.57],\n",
    "    \"uvindex\": [1.40, 1.48, 2.54, 2.24]\n",
    "}).set_index(\"Modelo\")\n",
    "\n",
    "plt.figure(figsize=(8, 6))\n",
    "sns.heatmap(multi_mae, annot=True, cmap=\"YlOrRd\", fmt=\".2f\")\n",
    "plt.title(\"MAE por Variable y Modelo - Multi-output\")\n",
    "plt.show()\n"
   ]
  },
  {
   "cell_type": "code",
   "execution_count": null,
   "id": "101f25b3-f0fe-42b5-92a2-5180731a13ef",
   "metadata": {},
   "outputs": [],
   "source": [
    "import numpy as np\n",
    "\n",
    "# Datos normalizados para radar (invertimos MAE: cuanto menor, mejor)\n",
    "modelos = multi_mae.index\n",
    "categorias = multi_mae.columns.tolist()\n",
    "\n",
    "valores = []\n",
    "for modelo in modelos:\n",
    "    row = multi_mae.loc[modelo]\n",
    "    inv = 1 / (row + 1e-6)  # invertimos MAE para que mayor = mejor\n",
    "    normalizado = inv / inv.max()\n",
    "    valores.append(normalizado.tolist())\n",
    "\n",
    "# Radar plot\n",
    "from math import pi\n",
    "\n",
    "num_vars = len(categorias)\n",
    "angles = [n / float(num_vars) * 2 * pi for n in range(num_vars)]\n",
    "angles += angles[:1]\n",
    "\n",
    "plt.figure(figsize=(8, 8))\n",
    "for i, val in enumerate(valores):\n",
    "    val += val[:1]  # cerrar el gráfico\n",
    "    plt.polar(angles, val, label=modelos[i], linewidth=2)\n",
    "\n",
    "plt.xticks(angles[:-1], categorias)\n",
    "plt.title(\"Radar Chart – Desempeño Multioutput (MAE Invertido)\")\n",
    "plt.legend(loc='upper right')\n",
    "plt.show()\n"
   ]
  },
  {
   "cell_type": "code",
   "execution_count": null,
   "id": "cf7d329d-a123-4e82-8194-7c1f10a90d79",
   "metadata": {},
   "outputs": [],
   "source": [
    "from sklearn.metrics import ConfusionMatrixDisplay\n",
    "import numpy as np\n",
    "\n",
    "# Matriz de confusión para los 4 clasificadores\n",
    "conf_matrix = np.array([[27, 0],\n",
    "                        [17, 0]])\n",
    "\n",
    "disp = ConfusionMatrixDisplay(confusion_matrix=conf_matrix,\n",
    "                              display_labels=[\"No Lluvia\", \"Lluvia\"])\n",
    "disp.plot(cmap=\"Blues\")\n",
    "plt.title(\"Matriz de Confusión - Clasificadores (Todos)\")\n",
    "plt.show()\n"
   ]
  },
  {
   "cell_type": "code",
   "execution_count": null,
   "id": "10ebe203-6154-4ca1-876b-3c3aa7894b22",
   "metadata": {},
   "outputs": [],
   "source": [
    "from sklearn.metrics import ConfusionMatrixDisplay\n",
    "import numpy as np\n",
    "\n",
    "# Matriz de confusión para los 4 clasificadores\n",
    "conf_matrix = np.array([[27, 0],\n",
    "                        [17, 0]])\n",
    "\n",
    "disp = ConfusionMatrixDisplay(confusion_matrix=conf_matrix,\n",
    "                              display_labels=[\"No Lluvia\", \"Lluvia\"])\n",
    "disp.plot(cmap=\"Blues\")\n",
    "plt.title(\"Matriz de Confusión - Clasificadores (Todos)\")\n",
    "plt.show()\n"
   ]
  },
  {
   "cell_type": "markdown",
   "id": "29368b92-7dc1-4e3b-bbde-e05358d08f70",
   "metadata": {},
   "source": [
    "## 4. Guardar modelos ya entrenados"
   ]
  },
  {
   "cell_type": "code",
   "execution_count": null,
   "id": "70b1bf5b-f109-40d5-9b2f-b74ee8331856",
   "metadata": {},
   "outputs": [],
   "source": [
    "from sklearn.ensemble import RandomForestRegressor\n",
    "import joblib\n",
    "\n",
    "# Lista de variables que quieres predecir\n",
    "targets = ['temp_futuro_30', 'precip_futuro_30', 'humidity_futuro_30', 'uvindex_futuro_30']\n",
    "\n",
    "# Entrenar y guardar un modelo por variable\n",
    "for target in targets:\n",
    "    print(f\"Entrenando modelo para: {target}\")\n",
    "    \n",
    "    modelo = RandomForestRegressor(n_estimators=30, max_depth=4, random_state=42)\n",
    "    modelo.fit(X_train_scaled, df_train[target])  # Asegúrate de tener X_train_scaled y df_train preparados\n",
    "\n",
    "    nombre_fichero = f\"rf_{target}.pkl\"\n",
    "    joblib.dump(modelo, nombre_fichero)\n",
    "    print(f\"✅ Modelo guardado: {nombre_fichero}\")\n"
   ]
  },
  {
   "cell_type": "code",
   "execution_count": null,
   "id": "c30653c9-6d82-443c-a8ca-41a804dc0186",
   "metadata": {},
   "outputs": [],
   "source": [
    "from sklearn.multioutput import MultiOutputRegressor\n",
    "from sklearn.svm import SVR\n",
    "import joblib\n",
    "\n",
    "# Targets a predecir con SVR\n",
    "targets_svr = ['precip_futuro_30', 'humidity_futuro_30']\n",
    "\n",
    "# Entrenar modelo multi-output\n",
    "svr_base = SVR(C=1.0, epsilon=0.1)\n",
    "svr_model = MultiOutputRegressor(svr_base)\n",
    "svr_model.fit(X_train_scaled, df_train[targets_svr])\n",
    "\n",
    "# Guardar modelo\n",
    "joblib.dump(svr_model, \"svr_multi.pkl\")\n",
    "print(\"✅ Modelo SVR MultiOutput guardado como svr_multi.pkl\")\n"
   ]
  },
  {
   "cell_type": "code",
   "execution_count": null,
   "id": "667274bb-1136-49c1-bc77-9cfeebe0d942",
   "metadata": {},
   "outputs": [],
   "source": [
    "from sklearn.multioutput import MultiOutputRegressor\n",
    "from sklearn.ensemble import RandomForestRegressor\n",
    "import joblib\n",
    "\n",
    "# Targets a predecir con Random Forest\n",
    "targets_rf = ['temp_futuro_30', 'precip_futuro_30', 'humidity_futuro_30', 'uvindex_futuro_30']\n",
    "\n",
    "# Crear modelo Random Forest multi-output\n",
    "rf_base = RandomForestRegressor(n_estimators=50, random_state=42)\n",
    "rf_model = MultiOutputRegressor(rf_base)\n",
    "rf_model.fit(X_train_scaled, df_train[targets_rf])\n",
    "\n",
    "# Guardar modelo entrenado\n",
    "joblib.dump(rf_model, \"rf_multi.pkl\")\n",
    "print(\"✅ Modelo Random Forest MultiOutput guardado como rf_multi.pkl\")\n"
   ]
  },
  {
   "cell_type": "code",
   "execution_count": null,
   "id": "08d169f2-3cc5-477c-be15-43b0e9c61ad7",
   "metadata": {},
   "outputs": [],
   "source": [
    "import joblib\n",
    "joblib.dump(scaler, 'scaler.pkl')"
   ]
  },
  {
   "cell_type": "code",
   "execution_count": null,
   "id": "65b058c0-2b63-4a2f-9f12-b0b36d0d55d2",
   "metadata": {},
   "outputs": [],
   "source": [
    "def predecir_dia(input_dict):\n",
    "    scaler = joblib.load(\"scaler.pkl\")\n",
    "    model = joblib.load(\"rf_multi.pkl\")\n",
    "    \n",
    "    X = pd.DataFrame([input_dict])  # input_dict es un diccionario con los datos del día\n",
    "    X_scaled = scaler.transform(X)\n",
    "    y_pred = model.predict(X_scaled)\n",
    "    \n",
    "    return y_pred"
   ]
  },
  {
   "cell_type": "code",
   "execution_count": null,
   "id": "463b9692-136e-4f78-bc02-981b3d40e6b4",
   "metadata": {},
   "outputs": [],
   "source": [
    "# Exportar el dataframe ya procesado con todas las columnas necesarias para predecir\n",
    "ruta_salida = \"data/valencia_clima_unificado_procesado.csv\"\n",
    "df.to_csv(ruta_salida, index=False)\n",
    "print(f\"✅ CSV guardado en {ruta_salida}\")\n"
   ]
  }
 ],
 "metadata": {
  "kernelspec": {
   "display_name": "Python 3 (ipykernel)",
   "language": "python",
   "name": "python3"
  },
  "language_info": {
   "codemirror_mode": {
    "name": "ipython",
    "version": 3
   },
   "file_extension": ".py",
   "mimetype": "text/x-python",
   "name": "python",
   "nbconvert_exporter": "python",
   "pygments_lexer": "ipython3",
   "version": "3.13.2"
  }
 },
 "nbformat": 4,
 "nbformat_minor": 5
}
