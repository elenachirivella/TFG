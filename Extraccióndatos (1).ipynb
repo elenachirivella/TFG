{
 "cells": [
  {
   "cell_type": "code",
   "execution_count": 16,
   "id": "009d5921",
   "metadata": {},
   "outputs": [
    {
     "name": "stdout",
     "output_type": "stream",
     "text": [
      "Respuesta obtenida correctamente:\n",
      "\n",
      "Cabeceras del CSV:  ['name', 'datetime', 'tempmax', 'tempmin', 'temp', 'feelslikemax', 'feelslikemin', 'feelslike', 'dew', 'humidity', 'precip', 'precipprob', 'precipcover', 'preciptype', 'snow', 'snowdepth', 'windgust', 'windspeed', 'winddir', 'sealevelpressure', 'cloudcover', 'visibility', 'solarradiation', 'solarenergy', 'uvindex', 'severerisk', 'sunrise', 'sunset', 'moonphase', 'conditions', 'description', 'icon', 'stations']\n",
      "['ValÃ¨ncia, Comunitat Valenciana, Espanya', '2025-03-13', '58.2', '49.7', '54.5', '58.2', '45.7', '54.3', '45.1', '71.1', '0.036', '100', '20.83', 'rain', '0', '0', '21', '14.1', '256.4', '997.1', '73.6', '8.7', '64.2', '5.4', '2', '10', '2025-03-13T07:15:52', '2025-03-13T19:06:39', '0.47', 'Rain, Partially cloudy', 'Partly cloudy throughout the day with rain.', 'rain', 'LEVC,F1683,LEBT']\n",
      "['ValÃ¨ncia, Comunitat Valenciana, Espanya', '2025-03-14', '54.2', '50.4', '52.5', '54.2', '50.4', '52.5', '44.3', '73.7', '0.246', '83.9', '66.67', 'rain', '0', '0', '23.9', '8.5', '33', '999.3', '99', '12.1', '15', '1.4', '1', '10', '2025-03-14T07:14:18', '2025-03-14T19:07:40', '0.5', 'Rain, Overcast', 'Cloudy skies throughout the day with a chance of rain.', 'rain', '']\n",
      "['ValÃ¨ncia, Comunitat Valenciana, Espanya', '2025-03-15', '62.9', '42.7', '52.8', '62.9', '42.5', '52.6', '31.4', '49.2', '0.004', '67.7', '4.17', 'rain', '0', '0', '23.3', '9.6', '283.4', '1011', '31.1', '14.1', '238.3', '20.8', '8', '10', '2025-03-15T07:12:43', '2025-03-15T19:08:41', '0.54', 'Rain, Partially cloudy', 'Becoming cloudy in the afternoon with early morning rain.', 'rain', '']\n",
      "['ValÃ¨ncia, Comunitat Valenciana, Espanya', '2025-03-16', '59.3', '45.4', '52.4', '59.3', '45.4', '52.4', '39.9', '62.8', '0.048', '45.2', '16.67', 'rain', '0', '0', '23.7', '9.2', '230', '1017.2', '62.2', '15', '214.7', '18.6', '7', '10', '2025-03-16T07:11:08', '2025-03-16T19:09:42', '0.57', 'Rain, Partially cloudy', 'Partly cloudy throughout the day with a chance of rain.', 'rain', '']\n",
      "['ValÃ¨ncia, Comunitat Valenciana, Espanya', '2025-03-17', '57.1', '48.6', '52.4', '57.1', '48.6', '52.4', '47.9', '84.5', '0.418', '16.1', '20.83', 'rain', '0', '0', '15.2', '4.9', '0.5', '1015.4', '97.8', '14.9', '137.3', '11.9', '6', '10', '2025-03-17T07:09:32', '2025-03-17T19:10:43', '0.6', 'Overcast', 'Cloudy skies throughout the day.', 'cloudy', '']\n"
     ]
    }
   ],
   "source": [
    "import requests\n",
    "import sys\n",
    "import csv\n",
    "\n",
    "# Realiza la solicitud GET a la API\n",
    "response = requests.get(\n",
    "    \"https://weather.visualcrossing.com/VisualCrossingWebServices/rest/services/timeline/valencia?unitGroup=us&include=days&key=GS3VRCD2BG8MFDJ273G5MDS27&contentType=csv\"\n",
    ")\n",
    "\n",
    "# Verifica si la respuesta es exitosa (código de estado 200)\n",
    "if response.status_code != 200:\n",
    "    print('Unexpected Status code: ', response.status_code)\n",
    "    sys.exit()  \n",
    "\n",
    "# Imprime el contenido de la respuesta para verificar si está correcto\n",
    "print(\"Respuesta obtenida correctamente:\\n\")\n",
    "\n",
    "# Parseamos los resultados como CSV\n",
    "CSVText = csv.reader(response.text.splitlines(), delimiter=',', quotechar='\"')\n",
    "\n",
    "# Imprimir las cabeceras y las primeras filas del CSV para ver los datos\n",
    "header = next(CSVText)  # Obtener las cabeceras del CSV\n",
    "print(\"Cabeceras del CSV: \", header)\n",
    "\n",
    "# Imprimir las primeras 5 filas de los datos\n",
    "for i, row in enumerate(CSVText):\n",
    "    if i >= 5:  # Limitar a las primeras 5 filas para no imprimir demasiados datos\n",
    "        break\n",
    "    print(row)\n",
    "\n"
   ]
  },
  {
   "cell_type": "code",
   "execution_count": 21,
   "id": "656f3885",
   "metadata": {},
   "outputs": [
    {
     "name": "stdout",
     "output_type": "stream",
     "text": [
      "Error 400: No se pudieron obtener los datos\n"
     ]
    }
   ],
   "source": [
    "import requests\n",
    "import pandas as pd\n",
    "from io import StringIO\n",
    "\n",
    "# Definir parámetros para la consulta\n",
    "api_key = \"GS3VRCD2BG8MFDJ273G5MDS27\"  # Reemplaza con tu clave de API\n",
    "ubicacion = \"valencia\"  # Ciudad o coordenadas\n",
    "start_date = \"2025-01-01\"  # Fecha de inicio (YYYY-MM-DD)\n",
    "end_date = \"2025-03-01\"  # Fecha de fin (YYYY-MM-DD)\n",
    "\n",
    "# Construir la URL de la solicitud\n",
    "url = f\"https://weather.visualcrossing.com/VisualCrossingWebServices/rest/services/timeline/{ubicacion}?unitGroup=us&startDate={start_date}&endDate={end_date}&key={api_key}&contentType=csv\"\n",
    "\n",
    "# Realizar la solicitud GET a la API\n",
    "response = requests.get(url)\n",
    "\n",
    "# Verificar si la solicitud fue exitosa\n",
    "if response.status_code != 200:\n",
    "    print(f\"Error {response.status_code}: No se pudieron obtener los datos\")\n",
    "else:\n",
    "    # Convertir la respuesta CSV en un DataFrame de Pandas\n",
    "    data = StringIO(response.text)\n",
    "    df = pd.read_csv(data)\n",
    "\n",
    "    # Mostrar las primeras filas\n",
    "    print(\"\\nPrimeras 5 filas del DataFrame:\\n\", df.head())\n",
    "\n",
    "    # Mostrar el número total de filas\n",
    "    print(f\"\\nNúmero de filas en el DataFrame: {len(df)}\")\n"
   ]
  },
  {
   "cell_type": "code",
   "execution_count": null,
   "id": "70c186a0",
   "metadata": {},
   "outputs": [],
   "source": []
  }
 ],
 "metadata": {
  "kernelspec": {
   "display_name": "Python 3",
   "language": "python",
   "name": "python3"
  },
  "language_info": {
   "codemirror_mode": {
    "name": "ipython",
    "version": 3
   },
   "file_extension": ".py",
   "mimetype": "text/x-python",
   "name": "python",
   "nbconvert_exporter": "python",
   "pygments_lexer": "ipython3",
   "version": "3.8.8"
  }
 },
 "nbformat": 4,
 "nbformat_minor": 5
}
