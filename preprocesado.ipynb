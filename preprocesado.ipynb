{
 "cells": [
  {
   "cell_type": "code",
   "execution_count": 2,
   "id": "6bb5de60-f9b4-4229-8963-835f7ee26094",
   "metadata": {},
   "outputs": [
    {
     "name": "stdout",
     "output_type": "stream",
     "text": [
      "✅ Archivo preprocesado guardado como df_model.csv\n"
     ]
    },
    {
     "name": "stderr",
     "output_type": "stream",
     "text": [
      "C:\\Users\\Elena Chirivella\\AppData\\Local\\Temp\\ipykernel_11872\\143762783.py:7: UserWarning: Parsing dates in %d/%m/%Y format when dayfirst=False (the default) was specified. Pass `dayfirst=True` or specify a format to silence this warning.\n",
      "  df['datetime'] = pd.to_datetime(df['datetime'])\n"
     ]
    }
   ],
   "source": [
    "import pandas as pd\n",
    "\n",
    "# Leer el archivo (usa el nombre real que tengas)\n",
    "df = pd.read_csv(\"valencia_clima_unificado (2).csv\", delimiter=';', on_bad_lines='skip')\n",
    "\n",
    "# Convertir a fecha\n",
    "df['datetime'] = pd.to_datetime(df['datetime'])\n",
    "\n",
    "# Ordenar\n",
    "df = df.sort_values('datetime')\n",
    "\n",
    "# Crear columnas de fecha\n",
    "df['day'] = df['datetime'].dt.day\n",
    "df['month'] = df['datetime'].dt.month\n",
    "df['year'] = df['datetime'].dt.year\n",
    "df['weekday'] = df['datetime'].dt.weekday\n",
    "df['is_weekend'] = df['weekday'].isin([5, 6]).astype(int)\n",
    "\n",
    "# Crear lags para temp, precip y humidity\n",
    "lags = [1, 2, 3, 7]\n",
    "for l in lags:\n",
    "    df[f'temp_lag_{l}'] = df['temp'].shift(l)\n",
    "    df[f'precip_lag_{l}'] = df['precip'].shift(l)\n",
    "    df[f'humidity_lag_{l}'] = df['humidity'].shift(l)\n",
    "\n",
    "# Eliminar nulos\n",
    "df_model = df.dropna().reset_index(drop=True)\n",
    "\n",
    "# Guardar el nuevo CSV\n",
    "df_model.to_csv('df_model.csv', index=False)\n",
    "print(\"✅ Archivo preprocesado guardado como df_model.csv\")\n",
    "\n"
   ]
  },
  {
   "cell_type": "code",
   "execution_count": null,
   "id": "0894e235-a23d-4d56-895f-f543eea671c3",
   "metadata": {},
   "outputs": [],
   "source": []
  }
 ],
 "metadata": {
  "kernelspec": {
   "display_name": "Python 3 (ipykernel)",
   "language": "python",
   "name": "python3"
  },
  "language_info": {
   "codemirror_mode": {
    "name": "ipython",
    "version": 3
   },
   "file_extension": ".py",
   "mimetype": "text/x-python",
   "name": "python",
   "nbconvert_exporter": "python",
   "pygments_lexer": "ipython3",
   "version": "3.13.2"
  }
 },
 "nbformat": 4,
 "nbformat_minor": 5
}
